{
 "cells": [
  {
   "cell_type": "code",
   "execution_count": 51,
   "metadata": {},
   "outputs": [],
   "source": [
    "import pandas as pd\n",
    "import numpy as np\n",
    "from sklearn.feature_extraction.text import TfidfVectorizer\n",
    "from sklearn.metrics.pairwise import sigmoid_kernel\n",
    "from sklearn.metrics.pairwise import linear_kernel\n",
    "import ipywidgets as widgets\n",
    "from IPython.display import display, clear_output\n",
    "from sklearn.metrics.pairwise import cosine_similarity"
   ]
  },
  {
   "cell_type": "code",
   "execution_count": 22,
   "metadata": {},
   "outputs": [],
   "source": [
    "data_cat = 'cat_breed_characteristics.csv'\n",
    "data_dog = 'dog_breed_characteristics.csv'\n",
    "\n",
    "df_cat = pd.read_csv(data_cat)\n",
    "df_dog = pd.read_csv(data_dog)"
   ]
  },
  {
   "cell_type": "code",
   "execution_count": 23,
   "metadata": {},
   "outputs": [
    {
     "data": {
      "text/html": [
       "<div>\n",
       "<style scoped>\n",
       "    .dataframe tbody tr th:only-of-type {\n",
       "        vertical-align: middle;\n",
       "    }\n",
       "\n",
       "    .dataframe tbody tr th {\n",
       "        vertical-align: top;\n",
       "    }\n",
       "\n",
       "    .dataframe thead th {\n",
       "        text-align: right;\n",
       "    }\n",
       "</style>\n",
       "<table border=\"1\" class=\"dataframe\">\n",
       "  <thead>\n",
       "    <tr style=\"text-align: right;\">\n",
       "      <th></th>\n",
       "      <th>BreedName</th>\n",
       "      <th>AltBreedName</th>\n",
       "      <th>LapCat</th>\n",
       "      <th>Fur</th>\n",
       "      <th>MaleWtKg</th>\n",
       "      <th>Temperment</th>\n",
       "      <th>AvgKittenPrice</th>\n",
       "      <th>MalaysiaPopularity</th>\n",
       "      <th>PopularityUS2017</th>\n",
       "    </tr>\n",
       "  </thead>\n",
       "  <tbody>\n",
       "    <tr>\n",
       "      <th>0</th>\n",
       "      <td>Abyssinian</td>\n",
       "      <td>NaN</td>\n",
       "      <td>Lap</td>\n",
       "      <td>Short</td>\n",
       "      <td>4.0</td>\n",
       "      <td>Active, Energetic, Independent, Intelligent, G...</td>\n",
       "      <td>1050.0</td>\n",
       "      <td>NaN</td>\n",
       "      <td>7.0</td>\n",
       "    </tr>\n",
       "  </tbody>\n",
       "</table>\n",
       "</div>"
      ],
      "text/plain": [
       "    BreedName AltBreedName LapCat    Fur  MaleWtKg  \\\n",
       "0  Abyssinian          NaN    Lap  Short       4.0   \n",
       "\n",
       "                                          Temperment  AvgKittenPrice  \\\n",
       "0  Active, Energetic, Independent, Intelligent, G...          1050.0   \n",
       "\n",
       "   MalaysiaPopularity  PopularityUS2017  \n",
       "0                 NaN               7.0  "
      ]
     },
     "execution_count": 23,
     "metadata": {},
     "output_type": "execute_result"
    }
   ],
   "source": [
    "df_cat.head(1)"
   ]
  },
  {
   "cell_type": "code",
   "execution_count": 24,
   "metadata": {},
   "outputs": [
    {
     "data": {
      "text/html": [
       "<div>\n",
       "<style scoped>\n",
       "    .dataframe tbody tr th:only-of-type {\n",
       "        vertical-align: middle;\n",
       "    }\n",
       "\n",
       "    .dataframe tbody tr th {\n",
       "        vertical-align: top;\n",
       "    }\n",
       "\n",
       "    .dataframe thead th {\n",
       "        text-align: right;\n",
       "    }\n",
       "</style>\n",
       "<table border=\"1\" class=\"dataframe\">\n",
       "  <thead>\n",
       "    <tr style=\"text-align: right;\">\n",
       "      <th></th>\n",
       "      <th>BreedName</th>\n",
       "      <th>AltBreedName</th>\n",
       "      <th>Group1</th>\n",
       "      <th>Group2</th>\n",
       "      <th>MaleWtKg</th>\n",
       "      <th>Temperment</th>\n",
       "      <th>AvgPupPrice</th>\n",
       "      <th>Intelligence</th>\n",
       "      <th>Watchdog</th>\n",
       "      <th>MalaysiaGuardedDog</th>\n",
       "      <th>MalaysiaProhibitedDog</th>\n",
       "      <th>MalaysiaPopularity</th>\n",
       "      <th>PopularityUS2017</th>\n",
       "    </tr>\n",
       "  </thead>\n",
       "  <tbody>\n",
       "    <tr>\n",
       "      <th>0</th>\n",
       "      <td>Affenpinscher</td>\n",
       "      <td>NaN</td>\n",
       "      <td>Toy</td>\n",
       "      <td>Companion</td>\n",
       "      <td>4.0</td>\n",
       "      <td>Active, Adventurous, Curious, Fun-loving, Play...</td>\n",
       "      <td>1000.0</td>\n",
       "      <td>37.0</td>\n",
       "      <td>1.0</td>\n",
       "      <td>NaN</td>\n",
       "      <td>NaN</td>\n",
       "      <td>NaN</td>\n",
       "      <td>147.0</td>\n",
       "    </tr>\n",
       "  </tbody>\n",
       "</table>\n",
       "</div>"
      ],
      "text/plain": [
       "       BreedName AltBreedName Group1     Group2  MaleWtKg  \\\n",
       "0  Affenpinscher          NaN    Toy  Companion       4.0   \n",
       "\n",
       "                                          Temperment  AvgPupPrice  \\\n",
       "0  Active, Adventurous, Curious, Fun-loving, Play...       1000.0   \n",
       "\n",
       "   Intelligence  Watchdog  MalaysiaGuardedDog  MalaysiaProhibitedDog  \\\n",
       "0          37.0       1.0                 NaN                    NaN   \n",
       "\n",
       "   MalaysiaPopularity  PopularityUS2017  \n",
       "0                 NaN             147.0  "
      ]
     },
     "execution_count": 24,
     "metadata": {},
     "output_type": "execute_result"
    }
   ],
   "source": [
    "df_dog.head(1)"
   ]
  },
  {
   "cell_type": "code",
   "execution_count": 25,
   "metadata": {},
   "outputs": [],
   "source": [
    "# Drop columns not used\n",
    "df_cat = df_cat.drop(['AltBreedName','LapCat', 'Fur', 'MaleWtKg', 'AvgKittenPrice', 'MalaysiaPopularity', 'PopularityUS2017'], axis=1)"
   ]
  },
  {
   "cell_type": "code",
   "execution_count": 26,
   "metadata": {},
   "outputs": [],
   "source": [
    "# Drop columns not used\n",
    "df_dog = df_dog.drop(['AltBreedName','Group1', 'Group2', 'MaleWtKg', 'AvgPupPrice', 'Intelligence', 'Watchdog', 'MalaysiaGuardedDog', 'MalaysiaProhibitedDog', 'MalaysiaPopularity', 'PopularityUS2017'], axis=1)"
   ]
  },
  {
   "cell_type": "code",
   "execution_count": 27,
   "metadata": {},
   "outputs": [
    {
     "data": {
      "text/html": [
       "<div>\n",
       "<style scoped>\n",
       "    .dataframe tbody tr th:only-of-type {\n",
       "        vertical-align: middle;\n",
       "    }\n",
       "\n",
       "    .dataframe tbody tr th {\n",
       "        vertical-align: top;\n",
       "    }\n",
       "\n",
       "    .dataframe thead th {\n",
       "        text-align: right;\n",
       "    }\n",
       "</style>\n",
       "<table border=\"1\" class=\"dataframe\">\n",
       "  <thead>\n",
       "    <tr style=\"text-align: right;\">\n",
       "      <th></th>\n",
       "      <th>BreedName</th>\n",
       "      <th>Temperment</th>\n",
       "    </tr>\n",
       "  </thead>\n",
       "  <tbody>\n",
       "    <tr>\n",
       "      <th>0</th>\n",
       "      <td>Abyssinian</td>\n",
       "      <td>Active, Energetic, Independent, Intelligent, G...</td>\n",
       "    </tr>\n",
       "  </tbody>\n",
       "</table>\n",
       "</div>"
      ],
      "text/plain": [
       "    BreedName                                         Temperment\n",
       "0  Abyssinian  Active, Energetic, Independent, Intelligent, G..."
      ]
     },
     "execution_count": 27,
     "metadata": {},
     "output_type": "execute_result"
    }
   ],
   "source": [
    "df_cat.head(1)"
   ]
  },
  {
   "cell_type": "code",
   "execution_count": 28,
   "metadata": {},
   "outputs": [
    {
     "data": {
      "text/html": [
       "<div>\n",
       "<style scoped>\n",
       "    .dataframe tbody tr th:only-of-type {\n",
       "        vertical-align: middle;\n",
       "    }\n",
       "\n",
       "    .dataframe tbody tr th {\n",
       "        vertical-align: top;\n",
       "    }\n",
       "\n",
       "    .dataframe thead th {\n",
       "        text-align: right;\n",
       "    }\n",
       "</style>\n",
       "<table border=\"1\" class=\"dataframe\">\n",
       "  <thead>\n",
       "    <tr style=\"text-align: right;\">\n",
       "      <th></th>\n",
       "      <th>BreedName</th>\n",
       "      <th>Temperment</th>\n",
       "    </tr>\n",
       "  </thead>\n",
       "  <tbody>\n",
       "    <tr>\n",
       "      <th>0</th>\n",
       "      <td>Affenpinscher</td>\n",
       "      <td>Active, Adventurous, Curious, Fun-loving, Play...</td>\n",
       "    </tr>\n",
       "  </tbody>\n",
       "</table>\n",
       "</div>"
      ],
      "text/plain": [
       "       BreedName                                         Temperment\n",
       "0  Affenpinscher  Active, Adventurous, Curious, Fun-loving, Play..."
      ]
     },
     "execution_count": 28,
     "metadata": {},
     "output_type": "execute_result"
    }
   ],
   "source": [
    "df_dog.head(1)"
   ]
  },
  {
   "cell_type": "code",
   "execution_count": 9,
   "metadata": {},
   "outputs": [],
   "source": [
    "# Pet features\n",
    "cat_features = df_cat['Temperment']\n",
    "dog_features = df_dog['Temperment']"
   ]
  },
  {
   "cell_type": "code",
   "execution_count": 29,
   "metadata": {},
   "outputs": [
    {
     "name": "stdout",
     "output_type": "stream",
     "text": [
      "Total null values cat dataframe: 1\n",
      "Total values dog dataframe: 1\n"
     ]
    }
   ],
   "source": [
    "# Check null values\n",
    "print(f'Total null values cat dataframe: {df_cat.Temperment.isnull().sum().sum()}\\nTotal values dog dataframe: {df_dog.Temperment.isnull().sum().sum()}')"
   ]
  },
  {
   "cell_type": "code",
   "execution_count": 30,
   "metadata": {},
   "outputs": [],
   "source": [
    "# Clean dataframes from null values\n",
    "df_cat = df_cat.dropna(subset=['Temperment'])\n",
    "df_dog = df_dog.dropna(subset=['Temperment'])"
   ]
  },
  {
   "cell_type": "code",
   "execution_count": 31,
   "metadata": {},
   "outputs": [
    {
     "name": "stdout",
     "output_type": "stream",
     "text": [
      "Total null values cat dataframe: 0\n",
      "Total values dog dataframe: 0\n"
     ]
    }
   ],
   "source": [
    "# Check null values after dropna\n",
    "print(f'Total null values cat dataframe: {df_cat.Temperment.isnull().sum().sum()}\\nTotal values dog dataframe: {df_dog.Temperment.isnull().sum().sum()}')"
   ]
  },
  {
   "cell_type": "code",
   "execution_count": 32,
   "metadata": {},
   "outputs": [
    {
     "name": "stdout",
     "output_type": "stream",
     "text": [
      "['active', 'adaptable', 'affectioante', 'affectionate', 'agile', 'calm', 'clever', 'curious', 'demanding', 'dependent', 'devoted', 'easygoing', 'energetic', 'friendly', 'genlte', 'gentle', 'independent', 'inquisitive', 'intelligent', 'interactive', 'lively', 'loving', 'loyal', 'mischevious', 'outgoing', 'patient', 'peaceful', 'playful', 'quiet', 'rambunctious', 'sedate', 'sensible', 'sensitive', 'shy', 'six', 'sociable', 'social', 'sweet', 'tempered', 'tenacious', 'toed']\n"
     ]
    }
   ],
   "source": [
    "# Create matrix of TF-IDF features / Cat\n",
    "vectorizer_cat = TfidfVectorizer(use_idf=True)\n",
    "\n",
    "df_cat['Temperment'] = df_cat['Temperment'] .fillna('')\n",
    "cat_matrix = vectorizer_cat.fit_transform(df_cat['Temperment'])\n",
    "print(vectorizer_cat.get_feature_names())"
   ]
  },
  {
   "cell_type": "code",
   "execution_count": 33,
   "metadata": {},
   "outputs": [
    {
     "data": {
      "text/plain": [
       "<66x41 sparse matrix of type '<class 'numpy.float64'>'\n",
       "\twith 356 stored elements in Compressed Sparse Row format>"
      ]
     },
     "execution_count": 33,
     "metadata": {},
     "output_type": "execute_result"
    }
   ],
   "source": [
    "# Sparse matrix\n",
    "cat_matrix"
   ]
  },
  {
   "cell_type": "code",
   "execution_count": 34,
   "metadata": {},
   "outputs": [
    {
     "data": {
      "text/html": [
       "<div>\n",
       "<style scoped>\n",
       "    .dataframe tbody tr th:only-of-type {\n",
       "        vertical-align: middle;\n",
       "    }\n",
       "\n",
       "    .dataframe tbody tr th {\n",
       "        vertical-align: top;\n",
       "    }\n",
       "\n",
       "    .dataframe thead th {\n",
       "        text-align: right;\n",
       "    }\n",
       "</style>\n",
       "<table border=\"1\" class=\"dataframe\">\n",
       "  <thead>\n",
       "    <tr style=\"text-align: right;\">\n",
       "      <th></th>\n",
       "      <th>IDF Value</th>\n",
       "    </tr>\n",
       "  </thead>\n",
       "  <tbody>\n",
       "    <tr>\n",
       "      <th>playful</th>\n",
       "      <td>1.376051</td>\n",
       "    </tr>\n",
       "    <tr>\n",
       "      <th>intelligent</th>\n",
       "      <td>1.541131</td>\n",
       "    </tr>\n",
       "    <tr>\n",
       "      <th>active</th>\n",
       "      <td>1.837397</td>\n",
       "    </tr>\n",
       "    <tr>\n",
       "      <th>affectionate</th>\n",
       "      <td>1.908856</td>\n",
       "    </tr>\n",
       "    <tr>\n",
       "      <th>curious</th>\n",
       "      <td>1.985817</td>\n",
       "    </tr>\n",
       "    <tr>\n",
       "      <th>social</th>\n",
       "      <td>2.069198</td>\n",
       "    </tr>\n",
       "    <tr>\n",
       "      <th>gentle</th>\n",
       "      <td>2.113650</td>\n",
       "    </tr>\n",
       "    <tr>\n",
       "      <th>easygoing</th>\n",
       "      <td>2.160170</td>\n",
       "    </tr>\n",
       "    <tr>\n",
       "      <th>loyal</th>\n",
       "      <td>2.260254</td>\n",
       "    </tr>\n",
       "    <tr>\n",
       "      <th>calm</th>\n",
       "      <td>2.496642</td>\n",
       "    </tr>\n",
       "    <tr>\n",
       "      <th>lively</th>\n",
       "      <td>2.565635</td>\n",
       "    </tr>\n",
       "    <tr>\n",
       "      <th>quiet</th>\n",
       "      <td>2.719786</td>\n",
       "    </tr>\n",
       "    <tr>\n",
       "      <th>agile</th>\n",
       "      <td>2.902108</td>\n",
       "    </tr>\n",
       "    <tr>\n",
       "      <th>energetic</th>\n",
       "      <td>3.007468</td>\n",
       "    </tr>\n",
       "    <tr>\n",
       "      <th>friendly</th>\n",
       "      <td>3.007468</td>\n",
       "    </tr>\n",
       "    <tr>\n",
       "      <th>interactive</th>\n",
       "      <td>3.258782</td>\n",
       "    </tr>\n",
       "    <tr>\n",
       "      <th>dependent</th>\n",
       "      <td>3.412933</td>\n",
       "    </tr>\n",
       "    <tr>\n",
       "      <th>clever</th>\n",
       "      <td>3.412933</td>\n",
       "    </tr>\n",
       "    <tr>\n",
       "      <th>sweet</th>\n",
       "      <td>3.595255</td>\n",
       "    </tr>\n",
       "    <tr>\n",
       "      <th>loving</th>\n",
       "      <td>3.595255</td>\n",
       "    </tr>\n",
       "    <tr>\n",
       "      <th>sociable</th>\n",
       "      <td>4.106080</td>\n",
       "    </tr>\n",
       "    <tr>\n",
       "      <th>mischevious</th>\n",
       "      <td>4.106080</td>\n",
       "    </tr>\n",
       "    <tr>\n",
       "      <th>patient</th>\n",
       "      <td>4.106080</td>\n",
       "    </tr>\n",
       "    <tr>\n",
       "      <th>inquisitive</th>\n",
       "      <td>4.106080</td>\n",
       "    </tr>\n",
       "    <tr>\n",
       "      <th>demanding</th>\n",
       "      <td>4.106080</td>\n",
       "    </tr>\n",
       "    <tr>\n",
       "      <th>independent</th>\n",
       "      <td>4.106080</td>\n",
       "    </tr>\n",
       "    <tr>\n",
       "      <th>tempered</th>\n",
       "      <td>4.511545</td>\n",
       "    </tr>\n",
       "    <tr>\n",
       "      <th>genlte</th>\n",
       "      <td>4.511545</td>\n",
       "    </tr>\n",
       "    <tr>\n",
       "      <th>adaptable</th>\n",
       "      <td>4.511545</td>\n",
       "    </tr>\n",
       "    <tr>\n",
       "      <th>six</th>\n",
       "      <td>4.511545</td>\n",
       "    </tr>\n",
       "    <tr>\n",
       "      <th>shy</th>\n",
       "      <td>4.511545</td>\n",
       "    </tr>\n",
       "    <tr>\n",
       "      <th>sensitive</th>\n",
       "      <td>4.511545</td>\n",
       "    </tr>\n",
       "    <tr>\n",
       "      <th>sensible</th>\n",
       "      <td>4.511545</td>\n",
       "    </tr>\n",
       "    <tr>\n",
       "      <th>sedate</th>\n",
       "      <td>4.511545</td>\n",
       "    </tr>\n",
       "    <tr>\n",
       "      <th>rambunctious</th>\n",
       "      <td>4.511545</td>\n",
       "    </tr>\n",
       "    <tr>\n",
       "      <th>affectioante</th>\n",
       "      <td>4.511545</td>\n",
       "    </tr>\n",
       "    <tr>\n",
       "      <th>peaceful</th>\n",
       "      <td>4.511545</td>\n",
       "    </tr>\n",
       "    <tr>\n",
       "      <th>devoted</th>\n",
       "      <td>4.511545</td>\n",
       "    </tr>\n",
       "    <tr>\n",
       "      <th>outgoing</th>\n",
       "      <td>4.511545</td>\n",
       "    </tr>\n",
       "    <tr>\n",
       "      <th>tenacious</th>\n",
       "      <td>4.511545</td>\n",
       "    </tr>\n",
       "    <tr>\n",
       "      <th>toed</th>\n",
       "      <td>4.511545</td>\n",
       "    </tr>\n",
       "  </tbody>\n",
       "</table>\n",
       "</div>"
      ],
      "text/plain": [
       "              IDF Value\n",
       "playful        1.376051\n",
       "intelligent    1.541131\n",
       "active         1.837397\n",
       "affectionate   1.908856\n",
       "curious        1.985817\n",
       "social         2.069198\n",
       "gentle         2.113650\n",
       "easygoing      2.160170\n",
       "loyal          2.260254\n",
       "calm           2.496642\n",
       "lively         2.565635\n",
       "quiet          2.719786\n",
       "agile          2.902108\n",
       "energetic      3.007468\n",
       "friendly       3.007468\n",
       "interactive    3.258782\n",
       "dependent      3.412933\n",
       "clever         3.412933\n",
       "sweet          3.595255\n",
       "loving         3.595255\n",
       "sociable       4.106080\n",
       "mischevious    4.106080\n",
       "patient        4.106080\n",
       "inquisitive    4.106080\n",
       "demanding      4.106080\n",
       "independent    4.106080\n",
       "tempered       4.511545\n",
       "genlte         4.511545\n",
       "adaptable      4.511545\n",
       "six            4.511545\n",
       "shy            4.511545\n",
       "sensitive      4.511545\n",
       "sensible       4.511545\n",
       "sedate         4.511545\n",
       "rambunctious   4.511545\n",
       "affectioante   4.511545\n",
       "peaceful       4.511545\n",
       "devoted        4.511545\n",
       "outgoing       4.511545\n",
       "tenacious      4.511545\n",
       "toed           4.511545"
      ]
     },
     "execution_count": 34,
     "metadata": {},
     "output_type": "execute_result"
    }
   ],
   "source": [
    "# The lower the IDF value of a word, the less unique it is to any particular document. \n",
    "# Idf weights\n",
    "df_idf = pd.DataFrame(vectorizer_cat.idf_, index=vectorizer_cat.get_feature_names(),columns=[\"IDF Value\"]) \n",
    " \n",
    "# sort ascending \n",
    "df_idf.sort_values(by=['IDF Value'])"
   ]
  },
  {
   "cell_type": "code",
   "execution_count": 55,
   "metadata": {},
   "outputs": [],
   "source": [
    "# Cosine simularity\n",
    "cat_cosine = cosine_similarity(cat_matrix, cat_matrix)"
   ]
  },
  {
   "cell_type": "code",
   "execution_count": 56,
   "metadata": {},
   "outputs": [],
   "source": [
    "# Cat name and index\n",
    "cat_title_index = pd.Series(df_cat.index, index=df_cat['BreedName'])"
   ]
  },
  {
   "cell_type": "code",
   "execution_count": 112,
   "metadata": {},
   "outputs": [],
   "source": [
    "def recommend_pets(breed, pet_title, df, cosine=cat_cosine):\n",
    "    pet = pet_title[breed]\n",
    "\n",
    "    cosine_score = list(enumerate(cosine[pet]))\n",
    "\n",
    "    cosine_score = sorted(cosine_score, key=lambda x: x[1], reverse=True)\n",
    "\n",
    "    # Top 5 recommendations\n",
    "    cosine_score = cosine_score[1:6]\n",
    "\n",
    "    pet_index = [i[0] for i in cosine_score]\n",
    "\n",
    "    # Create list and append breed names\n",
    "    pet_list = []\n",
    "    for i in df[pet_index]:\n",
    "        pet_list.append(i)\n",
    "\n",
    "    df = pd.DataFrame(pet_list, columns = ['Recommended breeds']) \n",
    "    df.set_index('Recommended breeds', inplace=True)\n",
    "\n",
    "    return df"
   ]
  },
  {
   "cell_type": "code",
   "execution_count": 113,
   "metadata": {},
   "outputs": [
    {
     "data": {
      "text/html": [
       "<div>\n",
       "<style scoped>\n",
       "    .dataframe tbody tr th:only-of-type {\n",
       "        vertical-align: middle;\n",
       "    }\n",
       "\n",
       "    .dataframe tbody tr th {\n",
       "        vertical-align: top;\n",
       "    }\n",
       "\n",
       "    .dataframe thead th {\n",
       "        text-align: right;\n",
       "    }\n",
       "</style>\n",
       "<table border=\"1\" class=\"dataframe\">\n",
       "  <thead>\n",
       "    <tr style=\"text-align: right;\">\n",
       "      <th></th>\n",
       "    </tr>\n",
       "    <tr>\n",
       "      <th>Recommended breeds</th>\n",
       "    </tr>\n",
       "  </thead>\n",
       "  <tbody>\n",
       "    <tr>\n",
       "      <th>Japanese Bobtail</th>\n",
       "    </tr>\n",
       "    <tr>\n",
       "      <th>Chausie</th>\n",
       "    </tr>\n",
       "    <tr>\n",
       "      <th>Birman</th>\n",
       "    </tr>\n",
       "    <tr>\n",
       "      <th>Munchkin</th>\n",
       "    </tr>\n",
       "    <tr>\n",
       "      <th>Tiger</th>\n",
       "    </tr>\n",
       "  </tbody>\n",
       "</table>\n",
       "</div>"
      ],
      "text/plain": [
       "Empty DataFrame\n",
       "Columns: []\n",
       "Index: [Japanese Bobtail, Chausie, Birman, Munchkin, Tiger]"
      ]
     },
     "execution_count": 113,
     "metadata": {},
     "output_type": "execute_result"
    }
   ],
   "source": [
    "recommend_pets('Turkish Angora', cat_title_index, df_cat['BreedName'])"
   ]
  },
  {
   "cell_type": "markdown",
   "metadata": {},
   "source": [
    "# **Cat breed recommender**\n",
    "Click the buttons below and get recommendations for 5 similar cat breeds!"
   ]
  },
  {
   "cell_type": "code",
   "execution_count": 69,
   "metadata": {},
   "outputs": [
    {
     "data": {
      "application/vnd.jupyter.widget-view+json": {
       "model_id": "3ff1a8c7527c40dbb410b6dc211caf5c",
       "version_major": 2,
       "version_minor": 0
      },
      "text/plain": [
       "Button(button_style='success', description='Turkish Angora', style=ButtonStyle())"
      ]
     },
     "metadata": {},
     "output_type": "display_data"
    },
    {
     "data": {
      "application/vnd.jupyter.widget-view+json": {
       "model_id": "7c01bcc0584947839b3966c8101a76c9",
       "version_major": 2,
       "version_minor": 0
      },
      "text/plain": [
       "Button(button_style='success', description='Abyssinian', style=ButtonStyle())"
      ]
     },
     "metadata": {},
     "output_type": "display_data"
    },
    {
     "data": {
      "application/vnd.jupyter.widget-view+json": {
       "model_id": "3edd752a4fa1423d80ac9d92b176bf37",
       "version_major": 2,
       "version_minor": 0
      },
      "text/plain": [
       "Button(button_style='success', description='Bengal', style=ButtonStyle())"
      ]
     },
     "metadata": {},
     "output_type": "display_data"
    },
    {
     "data": {
      "application/vnd.jupyter.widget-view+json": {
       "model_id": "d71be9660b3245d198acb947c559f4ab",
       "version_major": 2,
       "version_minor": 0
      },
      "text/plain": [
       "Button(button_style='success', description='Maine Coon', style=ButtonStyle())"
      ]
     },
     "metadata": {},
     "output_type": "display_data"
    },
    {
     "data": {
      "application/vnd.jupyter.widget-view+json": {
       "model_id": "1b1608f553004056aaf9814e0cf6f4e3",
       "version_major": 2,
       "version_minor": 0
      },
      "text/plain": [
       "Button(button_style='success', description='Ocicat', style=ButtonStyle())"
      ]
     },
     "metadata": {},
     "output_type": "display_data"
    },
    {
     "data": {
      "application/vnd.jupyter.widget-view+json": {
       "model_id": "6865c235941f48a6914553132b31dc6c",
       "version_major": 2,
       "version_minor": 0
      },
      "text/plain": [
       "Output(layout=Layout(border='1px solid black'))"
      ]
     },
     "metadata": {},
     "output_type": "display_data"
    },
    {
     "name": "stdout",
     "output_type": "stream",
     "text": [
      "None\n"
     ]
    }
   ],
   "source": [
    "# Create widget buttons for 5 cats\n",
    "button_angora = widgets.Button(description=\"Turkish Angora\", button_style='success')\n",
    "button_abyssinian = widgets.Button(description=\"Abyssinian\", button_style='success')\n",
    "button_bengal = widgets.Button(description=\"Bengal\", button_style='success')\n",
    "button_maine_coon = widgets.Button(description=\"Maine Coon\", button_style='success')\n",
    "button_ocicat = widgets.Button(description=\"Ocicat\", button_style='success')\n",
    "\n",
    "# Output\n",
    "output = widgets.Output(layout={'border': '1px solid black'})\n",
    "\n",
    "# Display buttons\n",
    "display(button_angora,button_abyssinian, button_bengal, button_maine_coon, button_ocicat, output)\n",
    "\n",
    "# One function for each cat breed\n",
    "def angora_button(b):\n",
    "       with output:\n",
    "            clear_output(True)\n",
    "            display(recommend_pets('Turkish Angora', cat_title_index, df_cat['BreedName']))\n",
    "\n",
    "def abyssinian_button(b): \n",
    "       with output:\n",
    "            clear_output(True)\n",
    "            display(recommend_pets('Abyssinian', cat_title_index, df_cat['BreedName']))\n",
    "\n",
    "def bengal_button(b): \n",
    "       with output:\n",
    "            clear_output(True)\n",
    "            display(recommend_pets('Bengal', cat_title_index, df_cat['BreedName']))\n",
    "\n",
    "def maine_coon_button(b): \n",
    "       with output:\n",
    "            clear_output(True)\n",
    "            display(recommend_pets('Maine Coon', cat_title_index, df_cat['BreedName']))\n",
    "            \n",
    "def ocicat_button(b):\n",
    "       with output:\n",
    "            clear_output(True)\n",
    "            display(recommend_pets('Ocicat', cat_title_index, df_cat['BreedName']))\n",
    "            \n",
    "            \n",
    "button_angora.on_click(angora_button)\n",
    "button_abyssinian.on_click(abyssinian_button)\n",
    "button_bengal.on_click(bengal_button)\n",
    "button_maine_coon.on_click(maine_coon_button)\n",
    "button_ocicat.on_click(ocicat_button)"
   ]
  },
  {
   "cell_type": "code",
   "execution_count": null,
   "metadata": {},
   "outputs": [],
   "source": []
  }
 ],
 "metadata": {
  "kernelspec": {
   "display_name": "Python 3",
   "language": "python",
   "name": "python3"
  },
  "language_info": {
   "codemirror_mode": {
    "name": "ipython",
    "version": 3
   },
   "file_extension": ".py",
   "mimetype": "text/x-python",
   "name": "python",
   "nbconvert_exporter": "python",
   "pygments_lexer": "ipython3",
   "version": "3.7.9"
  }
 },
 "nbformat": 4,
 "nbformat_minor": 4
}
