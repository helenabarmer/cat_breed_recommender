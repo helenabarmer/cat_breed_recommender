{
 "cells": [
  {
   "cell_type": "code",
   "execution_count": 1,
   "metadata": {},
   "outputs": [],
   "source": [
    "import pandas as pd\n",
    "import numpy as np\n",
    "from sklearn.feature_extraction.text import TfidfVectorizer\n",
    "from sklearn.metrics.pairwise import sigmoid_kernel\n",
    "import ipywidgets as widgets\n",
    "from IPython.display import display, clear_output"
   ]
  },
  {
   "cell_type": "code",
   "execution_count": 2,
   "metadata": {},
   "outputs": [],
   "source": [
    "data_cat = 'cat_breed_characteristics.csv'\n",
    "data_dog = 'dog_breed_characteristics.csv'\n",
    "\n",
    "df_cat = pd.read_csv(data_cat)\n",
    "df_dog = pd.read_csv(data_dog)"
   ]
  },
  {
   "cell_type": "code",
   "execution_count": 3,
   "metadata": {},
   "outputs": [],
   "source": [
    "#df_cat.head(1)"
   ]
  },
  {
   "cell_type": "code",
   "execution_count": 4,
   "metadata": {},
   "outputs": [],
   "source": [
    "#df_dog.head(1)"
   ]
  },
  {
   "cell_type": "code",
   "execution_count": 5,
   "metadata": {},
   "outputs": [],
   "source": [
    "# Drop columns not used\n",
    "df_cat = df_cat.drop(['AltBreedName','LapCat', 'Fur', 'MaleWtKg', 'AvgKittenPrice', 'MalaysiaPopularity', 'PopularityUS2017'], axis=1)"
   ]
  },
  {
   "cell_type": "code",
   "execution_count": 6,
   "metadata": {},
   "outputs": [],
   "source": [
    "# Drop columns not used\n",
    "df_dog = df_dog.drop(['AltBreedName','Group1', 'Group2', 'MaleWtKg', 'AvgPupPrice', 'Intelligence', 'Watchdog', 'MalaysiaGuardedDog', 'MalaysiaProhibitedDog', 'MalaysiaPopularity', 'PopularityUS2017'], axis=1)"
   ]
  },
  {
   "cell_type": "code",
   "execution_count": 7,
   "metadata": {},
   "outputs": [],
   "source": [
    "#df_cat.head(1)"
   ]
  },
  {
   "cell_type": "code",
   "execution_count": 8,
   "metadata": {},
   "outputs": [],
   "source": [
    "#df_dog.head(1)"
   ]
  },
  {
   "cell_type": "code",
   "execution_count": 9,
   "metadata": {},
   "outputs": [],
   "source": [
    "# Pet features\n",
    "cat_features = df_cat['Temperment']\n",
    "dog_features = df_dog['Temperment']"
   ]
  },
  {
   "cell_type": "code",
   "execution_count": 10,
   "metadata": {},
   "outputs": [],
   "source": [
    "# Check null values\n",
    "#print(f'Total null values cat dataframe: {df_cat.Temperment.isnull().sum().sum()}\\nTotal values dog dataframe: {df_dog.Temperment.isnull().sum().sum()}')"
   ]
  },
  {
   "cell_type": "code",
   "execution_count": 11,
   "metadata": {},
   "outputs": [],
   "source": [
    "# Clean dataframes from null values\n",
    "df_cat = df_cat.dropna(subset=['Temperment'])\n",
    "df_dog = df_dog.dropna(subset=['Temperment'])"
   ]
  },
  {
   "cell_type": "code",
   "execution_count": 12,
   "metadata": {},
   "outputs": [],
   "source": [
    "# Check null values after dropna\n",
    "#print(f'Total null values cat dataframe: {df_cat.Temperment.isnull().sum().sum()}\\nTotal values dog dataframe: {df_dog.Temperment.isnull().sum().sum()}')"
   ]
  },
  {
   "cell_type": "code",
   "execution_count": 13,
   "metadata": {},
   "outputs": [],
   "source": [
    "# Create matrix of TF-IDF features / Cat\n",
    "vectorizer_cat = TfidfVectorizer(use_idf=True)\n",
    "\n",
    "df_cat['Temperment'] = df_cat['Temperment'] .fillna('')\n",
    "cat_matrix = vectorizer_cat.fit_transform(df_cat['Temperment'])\n",
    "#print(vectorizer_cat.get_feature_names())"
   ]
  },
  {
   "cell_type": "code",
   "execution_count": 14,
   "metadata": {},
   "outputs": [],
   "source": [
    "# Sparse matrix\n",
    "#cat_matrix"
   ]
  },
  {
   "cell_type": "code",
   "execution_count": 15,
   "metadata": {},
   "outputs": [],
   "source": [
    "# The lower the IDF value of a word, the less unique it is to any particular document. \n",
    "\n",
    "# Idf weights\n",
    "df_idf = pd.DataFrame(vectorizer_cat.idf_, index=vectorizer_cat.get_feature_names(),columns=[\"IDF Value\"]) \n",
    " \n",
    "# sort ascending \n",
    "#df_idf.sort_values(by=['IDF Value'])"
   ]
  },
  {
   "cell_type": "code",
   "execution_count": 16,
   "metadata": {},
   "outputs": [],
   "source": [
    "# Sigmoid\n",
    "cat_sigmoid = sigmoid_kernel(cat_matrix, cat_matrix)"
   ]
  },
  {
   "cell_type": "code",
   "execution_count": 17,
   "metadata": {},
   "outputs": [],
   "source": [
    "# Cat name and index\n",
    "cat_title_index = pd.Series(df_cat.index, index=df_cat['BreedName'])"
   ]
  },
  {
   "cell_type": "code",
   "execution_count": 18,
   "metadata": {},
   "outputs": [],
   "source": [
    "def recommend_pets(breed, pet_title, df, sigmoid=cat_sigmoid):\n",
    "    pet = pet_title[breed]\n",
    "\n",
    "    sigmoid_score = list(enumerate(sigmoid[pet]))\n",
    "\n",
    "    sigmoid_score = sorted(sigmoid_score, key=lambda x: x[1], reverse=True)\n",
    "\n",
    "    # Top 5 recommendations\n",
    "    sigmoid_score = sigmoid_score[1:6]\n",
    "\n",
    "    pet_index = [i[0] for i in sigmoid_score]\n",
    "\n",
    "    # Create list and append breed names\n",
    "    pet_list = []\n",
    "    for i in df[pet_index]:\n",
    "        pet_list.append(i)\n",
    "\n",
    "    df = pd.DataFrame(pet_list, columns = ['Recommended breeds']) \n",
    "    df.set_index('Recommended breeds', inplace=True)\n",
    "\n",
    "    return df"
   ]
  },
  {
   "cell_type": "code",
   "execution_count": 19,
   "metadata": {},
   "outputs": [],
   "source": [
    "#recommend_pets('Turkish Angora', cat_title_index, df_cat['BreedName'])"
   ]
  },
  {
   "cell_type": "markdown",
   "metadata": {},
   "source": [
    "# **Cat breed recommender**\n",
    "Click the buttons below and get recommendations for 5 similar cat breeds!"
   ]
  },
  {
   "cell_type": "code",
   "execution_count": 20,
   "metadata": {},
   "outputs": [
    {
     "data": {
      "application/vnd.jupyter.widget-view+json": {
       "model_id": "2bdb19abe5b2447faf82f0048588fa27",
       "version_major": 2,
       "version_minor": 0
      },
      "text/plain": [
       "Button(button_style='success', description='Turkish Angora', style=ButtonStyle())"
      ]
     },
     "metadata": {},
     "output_type": "display_data"
    },
    {
     "data": {
      "application/vnd.jupyter.widget-view+json": {
       "model_id": "9b85cece59014e7d8bdaea3be9aff462",
       "version_major": 2,
       "version_minor": 0
      },
      "text/plain": [
       "Button(button_style='success', description='Abyssinian', style=ButtonStyle())"
      ]
     },
     "metadata": {},
     "output_type": "display_data"
    },
    {
     "data": {
      "application/vnd.jupyter.widget-view+json": {
       "model_id": "394dc1e625804cc59a2628bddfd4457a",
       "version_major": 2,
       "version_minor": 0
      },
      "text/plain": [
       "Button(button_style='success', description='Bengal', style=ButtonStyle())"
      ]
     },
     "metadata": {},
     "output_type": "display_data"
    },
    {
     "data": {
      "application/vnd.jupyter.widget-view+json": {
       "model_id": "a920538ee61e477ababb04452f3bc3af",
       "version_major": 2,
       "version_minor": 0
      },
      "text/plain": [
       "Button(button_style='success', description='Maine Coon', style=ButtonStyle())"
      ]
     },
     "metadata": {},
     "output_type": "display_data"
    },
    {
     "data": {
      "application/vnd.jupyter.widget-view+json": {
       "model_id": "77c0d859835c43aaa68ace4935202f04",
       "version_major": 2,
       "version_minor": 0
      },
      "text/plain": [
       "Button(button_style='success', description='Ocicat', style=ButtonStyle())"
      ]
     },
     "metadata": {},
     "output_type": "display_data"
    },
    {
     "data": {
      "application/vnd.jupyter.widget-view+json": {
       "model_id": "c1c1dabc08344e45a02816753fb4d642",
       "version_major": 2,
       "version_minor": 0
      },
      "text/plain": [
       "Output(layout=Layout(border='1px solid black'))"
      ]
     },
     "metadata": {},
     "output_type": "display_data"
    }
   ],
   "source": [
    "# Create widget buttons for 5 cats\n",
    "button_angora = widgets.Button(description=\"Turkish Angora\", button_style='success')\n",
    "button_abyssinian = widgets.Button(description=\"Abyssinian\", button_style='success')\n",
    "button_bengal = widgets.Button(description=\"Bengal\", button_style='success')\n",
    "button_maine_coon = widgets.Button(description=\"Maine Coon\", button_style='success')\n",
    "button_ocicat = widgets.Button(description=\"Ocicat\", button_style='success')\n",
    "\n",
    "# Output\n",
    "output = widgets.Output(layout={'border': '1px solid black'})\n",
    "\n",
    "# Display buttons\n",
    "display(button_angora,button_abyssinian, button_bengal, button_maine_coon, button_ocicat, output)\n",
    "\n",
    "# One function for each cat breed\n",
    "def angora_button(b):\n",
    "       with output:\n",
    "            clear_output(True)\n",
    "            display(recommend_pets('Turkish Angora', cat_title_index, df_cat['BreedName']))\n",
    "\n",
    "def abyssinian_button(b): \n",
    "       with output:\n",
    "            clear_output(True)\n",
    "            display(recommend_pets('Abyssinian', cat_title_index, df_cat['BreedName']))\n",
    "\n",
    "def bengal_button(b): \n",
    "       with output:\n",
    "            clear_output(True)\n",
    "            display(recommend_pets('Bengal', cat_title_index, df_cat['BreedName']))\n",
    "\n",
    "def maine_coon_button(b): \n",
    "       with output:\n",
    "            clear_output(True)\n",
    "            display(recommend_pets('Maine Coon', cat_title_index, df_cat['BreedName']))\n",
    "            \n",
    "def ocicat_button(b):\n",
    "       with output:\n",
    "            clear_output(True)\n",
    "            display(recommend_pets('Ocicat', cat_title_index, df_cat['BreedName']))\n",
    "            \n",
    "            \n",
    "button_angora.on_click(angora_button)\n",
    "button_abyssinian.on_click(abyssinian_button)\n",
    "button_bengal.on_click(bengal_button)\n",
    "button_maine_coon.on_click(maine_coon_button)\n",
    "button_ocicat.on_click(ocicat_button)"
   ]
  },
  {
   "cell_type": "markdown",
   "metadata": {},
   "source": []
  },
  {
   "cell_type": "code",
   "execution_count": null,
   "metadata": {},
   "outputs": [],
   "source": []
  }
 ],
 "metadata": {
  "kernelspec": {
   "display_name": "Python 3",
   "language": "python",
   "name": "python3"
  },
  "language_info": {
   "codemirror_mode": {
    "name": "ipython",
    "version": 3
   },
   "file_extension": ".py",
   "mimetype": "text/x-python",
   "name": "python",
   "nbconvert_exporter": "python",
   "pygments_lexer": "ipython3",
   "version": "3.7.9"
  }
 },
 "nbformat": 4,
 "nbformat_minor": 4
}
